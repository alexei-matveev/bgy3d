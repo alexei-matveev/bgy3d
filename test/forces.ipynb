{
 "metadata": {
  "name": ""
 },
 "nbformat": 3,
 "nbformat_minor": 0,
 "worksheets": [
  {
   "cells": [
    {
     "cell_type": "code",
     "collapsed": false,
     "input": [
      "%pylab inline"
     ],
     "language": "python",
     "metadata": {},
     "outputs": []
    },
    {
     "cell_type": "heading",
     "level": 2,
     "metadata": {},
     "source": [
      "Excess chemical potential of OW-OW dimer in OW solvent"
     ]
    },
    {
     "cell_type": "code",
     "collapsed": false,
     "input": [
      "x = loadtxt (\"forces.txt\")\n",
      "from scipy.interpolate import InterpolatedUnivariateSpline as spline\n",
      "xs = x[:, 0]\n",
      "ys = x[:, 1]\n",
      "F = spline (xs, ys)\n",
      "Fprime = F.derivative (1)\n",
      "figure (figsize=(8, 6))\n",
      "plot (xs, ys, \"ro-\", label=\"E(x)\")\n",
      "plot (xs, 2 * x[:, 4], \"gv\", xs, -2 * x[:, 5], \"g^\")\n",
      "plot (xs, map (Fprime, xs), label=\"E'(x), spline derivative\")\n",
      "ylabel (\"kcal, kcal/A\")\n",
      "xlabel (\"d(OW-OW)/2, A\")\n",
      "legend (loc=7)\n",
      "axhline (0.0, color=\"black\")\n",
      "# Should be the limit at infinity:\n",
      "axhline (2 * 6.86940765590835)\n",
      "# United atom limit:\n",
      "axhline (5.82278007669465)\n",
      "# Update the matplotlib configuration parameters:\n",
      "title ('OW2 excess chemical potential and derivatives');"
     ],
     "language": "python",
     "metadata": {},
     "outputs": []
    },
    {
     "cell_type": "heading",
     "level": 2,
     "metadata": {},
     "source": [
      "Stretching, bending and translating water in water"
     ]
    },
    {
     "cell_type": "markdown",
     "metadata": {},
     "source": [
      "Water itself is placed in the xy-plane with O at (-dx, 0) and H at (+dx, +dy) and (+dx, -dy)."
     ]
    },
    {
     "cell_type": "code",
     "collapsed": false,
     "input": [
      "def plot_file (path):\n",
      "    x = loadtxt (path)\n",
      "    xs = x[:, 0]\n",
      "    ys = x[:, 1]\n",
      "    F = spline (xs, ys)\n",
      "    Fprime = F.derivative (1)\n",
      "    # Use finer (not necessarily uniform) grid to display splines:\n",
      "    xspline = spline (range (size (xs)), xs)\n",
      "    xfine = map (xspline, arange (0, size (xs), 0.125))\n",
      "    figure (figsize=(16, 6))\n",
      "    subplot (221)\n",
      "    plot (xs, ys, \"ro\", label=\"E(x)\")\n",
      "    plot (xfine, map (F, xfine), \"r-\", label=\"E(x), spline\")\n",
      "    ylabel (\"kcal\")\n",
      "    title (path)\n",
      "    subplot (223)\n",
      "    plot (xfine, map (Fprime, xfine), label=\"E'(x), spline derivative\")\n",
      "    ylabel (\"kcal/unit\")\n",
      "    plot (xs, x[:, 2], \"gv\")\n",
      "    title (\"derivatives\")\n",
      "    #plot (xs, x[:, 3], \"c^-\")\n",
      "    #ylim (-0.1, 0.1)\n",
      "    if False:\n",
      "        subplot (222)\n",
      "        plot (xs, ys, \"ro\")\n",
      "        plot (xfine, map (F, xfine), \"r-\")\n",
      "        xlim (0.0, 0.5)\n",
      "        # ylim (-4.186, -4.184)\n",
      "        # Grid spacing scale by vlines:\n",
      "        axvline (1 * 20.0 / 96)\n",
      "        axvline (2 * 20.0 / 96)\n",
      "        title (\"Zoom\");\n",
      "\n",
      "plot_file (\"forces-water-cSPCE-stretching.txt\")\n",
      "plot_file (\"forces-water-cSPCE-bending.txt\")\n",
      "plot_file (\"forces-water-cSPCE-transx.txt\")\n",
      "plot_file (\"forces-water-cSPCE-transy.txt\")\n",
      "plot_file (\"forces-water-cSPCE-transz.txt\")"
     ],
     "language": "python",
     "metadata": {},
     "outputs": []
    },
    {
     "cell_type": "code",
     "collapsed": false,
     "input": [],
     "language": "python",
     "metadata": {},
     "outputs": []
    }
   ],
   "metadata": {}
  }
 ]
}