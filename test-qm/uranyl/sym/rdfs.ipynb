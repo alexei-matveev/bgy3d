{
 "metadata": {
  "name": ""
 },
 "nbformat": 3,
 "nbformat_minor": 0,
 "worksheets": [
  {
   "cells": [
    {
     "cell_type": "code",
     "collapsed": false,
     "input": [
      "%pylab inline"
     ],
     "language": "python",
     "metadata": {},
     "outputs": []
    },
    {
     "cell_type": "code",
     "collapsed": false,
     "input": [
      "dir=\"./rdfs-10x256-trilin\"\n",
      "rho = 0.0333295 # A^-3\n",
      "from scipy.interpolate import InterpolatedUnivariateSpline as spline\n",
      "\n",
      "def one (path, ymax=8, rmax=3.0):\n",
      "    cols = loadtxt (dir + \"/\" + path)\n",
      "    r = cols[:, 0]\n",
      "    gO = cols[:, 1]\n",
      "    gH = cols[:, 2]\n",
      "    def pp (g, color):\n",
      "        Nprime = spline (r, 4 * pi * rho * r**2 * g)\n",
      "        N = Nprime.antiderivative()\n",
      "\n",
      "        plot (r, g, \"-\", label=\"g(r)\", color=color)\n",
      "        plot (r, map (N, r), \"--\", label=\"n(r)\", color=color)\n",
      "        legend ()\n",
      "        ylim (0, ymax)\n",
      "        # xlim (2, 4)\n",
      "        xlabel (\"r, A\")\n",
      "        # ylabel (\"\")\n",
      "        title (path)\n",
      "        axvline(rmax, color=\"black\")\n",
      "        axhline(1.0, color=\"black\")\n",
      "        print \"n(\", rmax, \") =\", N(rmax)\n",
      "        # print \"n(\", r[-1], \") =\", N(r[-1])\n",
      "    \n",
      "    figure (figsize=(8, 6))\n",
      "    pp (gO, color=\"red\")\n",
      "    pp (gH, color=\"blue\")"
     ],
     "language": "python",
     "metadata": {},
     "outputs": []
    },
    {
     "cell_type": "code",
     "collapsed": false,
     "input": [
      "one (\"0w,KH,U.rdf\", ymax=8, rmax=3.2)"
     ],
     "language": "python",
     "metadata": {},
     "outputs": []
    },
    {
     "cell_type": "code",
     "collapsed": false,
     "input": [
      "one (\"0w,PSE2,U.rdf\", ymax=10, rmax=3.2)"
     ],
     "language": "python",
     "metadata": {},
     "outputs": []
    },
    {
     "cell_type": "code",
     "collapsed": false,
     "input": [
      "one (\"0w,PSE3,U.rdf\", ymax=14, rmax=3.2)"
     ],
     "language": "python",
     "metadata": {},
     "outputs": []
    },
    {
     "cell_type": "code",
     "collapsed": false,
     "input": [
      "one (\"0w,KH,OU.rdf\", ymax=4, rmax=2.2)"
     ],
     "language": "python",
     "metadata": {},
     "outputs": []
    },
    {
     "cell_type": "code",
     "collapsed": false,
     "input": [
      "one (\"0w,PSE2,OU.rdf\", ymax=4, rmax=2.2)"
     ],
     "language": "python",
     "metadata": {},
     "outputs": []
    },
    {
     "cell_type": "code",
     "collapsed": false,
     "input": [
      "one (\"0w,PSE3,OU.rdf\", ymax=4, rmax=2.2)"
     ],
     "language": "python",
     "metadata": {},
     "outputs": []
    },
    {
     "cell_type": "code",
     "collapsed": false,
     "input": [
      "one (\"4w,KH,U.rdf\", ymax=4, rmax=4.2)\n",
      "one (\"4w,PSE2,U.rdf\", ymax=4, rmax=4.2)\n",
      "one (\"4w,PSE3,U.rdf\", ymax=4, rmax=4.2)"
     ],
     "language": "python",
     "metadata": {},
     "outputs": []
    },
    {
     "cell_type": "code",
     "collapsed": false,
     "input": [
      "one (\"4w,KH,OU.rdf\", ymax=2, rmax=2.2)\n",
      "one (\"4w,PSE2,OU.rdf\", ymax=2, rmax=2.2)\n",
      "one (\"4w,PSE3,OU.rdf\", ymax=2, rmax=2.2)"
     ],
     "language": "python",
     "metadata": {},
     "outputs": []
    },
    {
     "cell_type": "code",
     "collapsed": false,
     "input": [
      "one (\"5w,KH,U.rdf\", ymax=4, rmax=4.2)\n",
      "one (\"5w,PSE2,U.rdf\", ymax=4, rmax=4.2)\n",
      "one (\"5w,PSE3,U.rdf\", ymax=4, rmax=4.2)"
     ],
     "language": "python",
     "metadata": {},
     "outputs": []
    },
    {
     "cell_type": "code",
     "collapsed": false,
     "input": [
      "one (\"5w,KH,OU.rdf\", ymax=2, rmax=2.2)\n",
      "one (\"5w,PSE2,OU.rdf\", ymax=2, rmax=2.2)\n",
      "one (\"5w,PSE3,OU.rdf\", ymax=2, rmax=2.2)"
     ],
     "language": "python",
     "metadata": {},
     "outputs": []
    },
    {
     "cell_type": "code",
     "collapsed": false,
     "input": [
      "one (\"6w,KH,U.rdf\", ymax=2, rmax=4.2)\n",
      "one (\"6w,PSE2,U.rdf\", ymax=2, rmax=4.2)\n",
      "one (\"6w,PSE3,U.rdf\", ymax=2, rmax=4.2)"
     ],
     "language": "python",
     "metadata": {},
     "outputs": []
    },
    {
     "cell_type": "code",
     "collapsed": false,
     "input": [
      "one (\"6w,KH,OU.rdf\", ymax=2, rmax=2.2)\n",
      "one (\"6w,PSE2,OU.rdf\", ymax=2, rmax=2.2)\n",
      "one (\"6w,PSE3,OU.rdf\", ymax=2, rmax=2.2)"
     ],
     "language": "python",
     "metadata": {},
     "outputs": []
    },
    {
     "cell_type": "code",
     "collapsed": false,
     "input": [],
     "language": "python",
     "metadata": {},
     "outputs": []
    }
   ],
   "metadata": {}
  }
 ]
}